{
 "cells": [
  {
   "cell_type": "code",
   "execution_count": 1,
   "metadata": {},
   "outputs": [
    {
     "name": "stderr",
     "output_type": "stream",
     "text": [
      "C:\\Users\\Amelia R. Whitlow\\AppData\\Local\\Temp\\ipykernel_10904\\710593305.py:23: DeprecationWarning: `photutils.aperture_photometry` is a deprecated alias for `photutils.aperture.aperture_photometry` and will be removed in the future. Instead, please use `from photutils.aperture import aperture_photometry` to silence this warning.\n",
      "  from photutils import aperture_photometry,DAOStarFinder,CircularAperture, find_peaks\n",
      "C:\\Users\\Amelia R. Whitlow\\AppData\\Local\\Temp\\ipykernel_10904\\710593305.py:23: DeprecationWarning: `photutils.DAOStarFinder` is a deprecated alias for `photutils.detection.DAOStarFinder` and will be removed in the future. Instead, please use `from photutils.detection import DAOStarFinder` to silence this warning.\n",
      "  from photutils import aperture_photometry,DAOStarFinder,CircularAperture, find_peaks\n",
      "C:\\Users\\Amelia R. Whitlow\\AppData\\Local\\Temp\\ipykernel_10904\\710593305.py:23: DeprecationWarning: `photutils.CircularAperture` is a deprecated alias for `photutils.aperture.CircularAperture` and will be removed in the future. Instead, please use `from photutils.aperture import CircularAperture` to silence this warning.\n",
      "  from photutils import aperture_photometry,DAOStarFinder,CircularAperture, find_peaks\n",
      "C:\\Users\\Amelia R. Whitlow\\AppData\\Local\\Temp\\ipykernel_10904\\710593305.py:23: DeprecationWarning: `photutils.find_peaks` is a deprecated alias for `photutils.detection.find_peaks` and will be removed in the future. Instead, please use `from photutils.detection import find_peaks` to silence this warning.\n",
      "  from photutils import aperture_photometry,DAOStarFinder,CircularAperture, find_peaks\n",
      "c:\\ProgramData\\Anaconda3\\Lib\\site-packages\\paramiko\\transport.py:219: CryptographyDeprecationWarning: Blowfish has been deprecated\n",
      "  \"class\": algorithms.Blowfish,\n"
     ]
    }
   ],
   "source": [
    "#Import Statements\n",
    "import astropy.units as u\n",
    "from astropy.stats import sigma_clipped_stats, mad_std, SigmaClip, gaussian_sigma_to_fwhm, gaussian_fwhm_to_sigma\n",
    "from astropy.visualization import ImageNormalize, ZScaleInterval\n",
    "from astropy.io import fits\n",
    "from astropy.nddata import CCDData\n",
    "from astropy.convolution import convolve, Gaussian2DKernel\n",
    "from astropy.modeling.models import Gaussian2D\n",
    "from astropy.modeling import fitting\n",
    "from astropy.modeling.fitting import LevMarLSQFitter\n",
    "import astropy\n",
    "import math\n",
    "import ccdproc as ccdp\n",
    "import os\n",
    "#import data_reduction as dr\n",
    "import importlib\n",
    "import matplotlib.pyplot as plt\n",
    "import matplotlib\n",
    "from matplotlib import style\n",
    "import numpy as np\n",
    "from pathlib import Path\n",
    "import pandas as pd\n",
    "from photutils import aperture_photometry,DAOStarFinder,CircularAperture, find_peaks\n",
    "from photutils.aperture import aperture_photometry, CircularAperture, CircularAnnulus, ApertureStats\n",
    "from photutils.centroids import centroid_quadratic\n",
    "from photutils.profiles import RadialProfile\n",
    "import shutil\n",
    "import photutils\n",
    "from photutils.background import MADStdBackgroundRMS, MMMBackground\n",
    "from photutils.psf import DAOGroup, IntegratedGaussianPRF, BasicPSFPhotometry\n",
    "from astropy.time import Time\n",
    "from astropy.timeseries import LombScargle\n",
    "from astropy.coordinates import EarthLocation\n",
    "import astroalign as aa\n",
    "import warnings\n",
    "from astroplan import Observer\n",
    "import re\n",
    "warnings.simplefilter('ignore')\n",
    "#importlib.reload(dr);\n",
    "\n",
    "import importlib\n",
    "#importlib.reload(dr)"
   ]
  },
  {
   "cell_type": "markdown",
   "metadata": {},
   "source": [
    "## Album_Observer Class"
   ]
  },
  {
   "cell_type": "code",
   "execution_count": 4,
   "metadata": {},
   "outputs": [],
   "source": [
    "class Album_Observer(Observer):\n",
    "    def __init__(self, name:str, image_type_name:str='IMG_TYPE', filt_name:str='FILTER', exposure_time_name:str='EXP_TIME', bias_name:str='BIAS', dark_name:str='DARK', flat_name:str='FLAT', datetime_name:str='DATE-OBS', **kwargs):\n",
    "        super().__init__(name=name, **kwargs)\n",
    "\n",
    "        #self.image_type_name = kwargs.get('image_type_name', 'IMAGETYP')\n",
    "        self.image_type_name = image_type_name\n",
    "        self.filt_name = filt_name\n",
    "        self.exposure_time_name = exposure_time_name\n",
    "        self.bias_name = bias_name\n",
    "        self.dark_name = dark_name\n",
    "        self.flat_name = flat_name\n",
    "        self.datetime_name = datetime_name\n",
    "\n",
    "\n",
    "    def print_properties(self):\n",
    "        print(self.name, self.image_type_name, self.filt_name, self.exposure_time_name, self.bias_name, self.dark_name, self.flat_name, self.datetime_name)"
   ]
  },
  {
   "cell_type": "code",
   "execution_count": 8,
   "metadata": {},
   "outputs": [
    {
     "name": "stdout",
     "output_type": "stream",
     "text": [
      "APO IMAGETYP FILTER EXPTIME BIAS DARK FLAT DATE-OBS\n",
      "MRO IMG_TYPE FILTER EXP_TIME BIAS DARK FLAT DATE-OBS\n"
     ]
    }
   ],
   "source": [
    "apo_phobs = Album_Observer(name='APO',longitude=-(105*u.deg+49*u.arcmin+13*u.arcsec), latitude=32*u.deg+46*u.arcmin+49*u.arcsec, elevation=2788*u.m, timezone='US/Mountain', image_type_name = 'IMAGETYP', filt_name = 'FILTER', exposure_time_name = 'EXPTIME', bias_name = 'BIAS', dark_name = 'DARK', flat_name = 'FLAT', datetime_name = 'DATE-OBS')\n",
    "apo_phobs.print_properties()\n",
    "\n",
    "mro_phobs = Album_Observer(name='MRO',longitude=-(120*u.deg+43*u.arcmin+37*u.arcsec), latitude=46*u.deg+57*u.arcmin+10*u.arcsec, elevation=1198*u.m, timezone='US/Pacific', image_type_name = 'IMG_TYPE', filt_name = 'FILTER', exposure_time_name = 'EXP_TIME', bias_name = 'BIAS', dark_name = 'DARK', flat_name = 'FLAT', datetime_name = 'DATE-OBS')\n",
    "mro_phobs.print_properties()"
   ]
  },
  {
   "cell_type": "markdown",
   "metadata": {},
   "source": [
    "## Album Class"
   ]
  },
  {
   "cell_type": "code",
   "execution_count": 9,
   "metadata": {},
   "outputs": [
    {
     "name": "stdout",
     "output_type": "stream",
     "text": [
      "Hi\n"
     ]
    }
   ],
   "source": [
    "print(\"Hi\")"
   ]
  }
 ],
 "metadata": {
  "kernelspec": {
   "display_name": "base",
   "language": "python",
   "name": "python3"
  },
  "language_info": {
   "codemirror_mode": {
    "name": "ipython",
    "version": 3
   },
   "file_extension": ".py",
   "mimetype": "text/x-python",
   "name": "python",
   "nbconvert_exporter": "python",
   "pygments_lexer": "ipython3",
   "version": "3.11.4"
  }
 },
 "nbformat": 4,
 "nbformat_minor": 2
}
